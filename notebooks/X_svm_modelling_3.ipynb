{
 "cells": [
  {
   "cell_type": "markdown",
   "id": "4065bb41",
   "metadata": {},
   "source": [
    "# Modelling using SVM"
   ]
  },
  {
   "cell_type": "code",
   "execution_count": 1,
   "id": "88ebfaf6",
   "metadata": {},
   "outputs": [
    {
     "name": "stdout",
     "output_type": "stream",
     "text": [
      "Number of GPU:  1\n",
      "GPU Name:  NVIDIA GeForce RTX 3050 Laptop GPU\n",
      "Using device: cuda\n"
     ]
    }
   ],
   "source": [
    "import torch\n",
    "\n",
    "print(\"Number of GPU: \", torch.cuda.device_count())\n",
    "print(\"GPU Name: \", torch.cuda.get_device_name())\n",
    "\n",
    "\n",
    "device = torch.device('cuda' if torch.cuda.is_available() else 'cpu')\n",
    "print('Using device:', device)"
   ]
  },
  {
   "cell_type": "code",
   "execution_count": 2,
   "id": "3bcca8ea",
   "metadata": {},
   "outputs": [
    {
     "name": "stdout",
     "output_type": "stream",
     "text": [
      "<class 'pandas.core.frame.DataFrame'>\n",
      "RangeIndex: 100000 entries, 0 to 99999\n",
      "Data columns (total 14 columns):\n",
      " #   Column            Non-Null Count   Dtype  \n",
      "---  ------            --------------   -----  \n",
      " 0   at                100000 non-null  object \n",
      " 1   reviewId          100000 non-null  object \n",
      " 2   userName          100000 non-null  object \n",
      " 3   score             100000 non-null  int64  \n",
      " 4   content           100000 non-null  object \n",
      " 5   cleaning          100000 non-null  object \n",
      " 6   case_folding      100000 non-null  object \n",
      " 7   no_elongation     100000 non-null  object \n",
      " 8   formalization     99773 non-null   object \n",
      " 9   tokenized         100000 non-null  object \n",
      " 10  stopword_removal  100000 non-null  object \n",
      " 11  stemming          100000 non-null  object \n",
      " 12  sentiment         100000 non-null  object \n",
      " 13  confident_score   100000 non-null  float64\n",
      "dtypes: float64(1), int64(1), object(12)\n",
      "memory usage: 10.7+ MB\n"
     ]
    }
   ],
   "source": [
    "import pandas as pd\n",
    "\n",
    "df = pd.read_csv('../data/preprocessed/review_tiktok_dataset_sentiment_indobertweet.csv')\n",
    "df.info()"
   ]
  },
  {
   "cell_type": "code",
   "execution_count": 3,
   "id": "e3fd04d9",
   "metadata": {},
   "outputs": [
    {
     "name": "stdout",
     "output_type": "stream",
     "text": [
      "<class 'pandas.core.frame.DataFrame'>\n",
      "Index: 78304 entries, 0 to 99999\n",
      "Data columns (total 14 columns):\n",
      " #   Column            Non-Null Count  Dtype  \n",
      "---  ------            --------------  -----  \n",
      " 0   at                78304 non-null  object \n",
      " 1   reviewId          78304 non-null  object \n",
      " 2   userName          78304 non-null  object \n",
      " 3   score             78304 non-null  int64  \n",
      " 4   content           78304 non-null  object \n",
      " 5   cleaning          78304 non-null  object \n",
      " 6   case_folding      78304 non-null  object \n",
      " 7   no_elongation     78304 non-null  object \n",
      " 8   formalization     78295 non-null  object \n",
      " 9   tokenized         78304 non-null  object \n",
      " 10  stopword_removal  78304 non-null  object \n",
      " 11  stemming          78304 non-null  object \n",
      " 12  sentiment         78304 non-null  object \n",
      " 13  confident_score   78304 non-null  float64\n",
      "dtypes: float64(1), int64(1), object(12)\n",
      "memory usage: 9.0+ MB\n"
     ]
    }
   ],
   "source": [
    "df_filtered = df[df['confident_score'] >= 0.9]\n",
    "df_filtered.info()"
   ]
  },
  {
   "cell_type": "code",
   "execution_count": 4,
   "id": "ed119aa7",
   "metadata": {},
   "outputs": [
    {
     "data": {
      "text/plain": [
       "at                  0\n",
       "reviewId            0\n",
       "userName            0\n",
       "score               0\n",
       "content             0\n",
       "cleaning            0\n",
       "case_folding        0\n",
       "no_elongation       0\n",
       "formalization       9\n",
       "tokenized           0\n",
       "stopword_removal    0\n",
       "stemming            0\n",
       "sentiment           0\n",
       "confident_score     0\n",
       "dtype: int64"
      ]
     },
     "execution_count": 4,
     "metadata": {},
     "output_type": "execute_result"
    }
   ],
   "source": [
    "df_filtered.isna().sum()"
   ]
  },
  {
   "cell_type": "code",
   "execution_count": 5,
   "id": "8b52c600",
   "metadata": {},
   "outputs": [],
   "source": [
    "df_filtered = df_filtered.dropna(subset=['formalization']).reset_index(drop=True)"
   ]
  },
  {
   "cell_type": "code",
   "execution_count": 6,
   "id": "5d47b315",
   "metadata": {},
   "outputs": [
    {
     "data": {
      "text/plain": [
       "at                  0\n",
       "reviewId            0\n",
       "userName            0\n",
       "score               0\n",
       "content             0\n",
       "cleaning            0\n",
       "case_folding        0\n",
       "no_elongation       0\n",
       "formalization       0\n",
       "tokenized           0\n",
       "stopword_removal    0\n",
       "stemming            0\n",
       "sentiment           0\n",
       "confident_score     0\n",
       "dtype: int64"
      ]
     },
     "execution_count": 6,
     "metadata": {},
     "output_type": "execute_result"
    }
   ],
   "source": [
    "df_filtered.isna().sum()"
   ]
  },
  {
   "cell_type": "markdown",
   "id": "023e82e9",
   "metadata": {},
   "source": [
    "## Sentimnet Distribution"
   ]
  },
  {
   "cell_type": "code",
   "execution_count": 7,
   "id": "ab2d2471",
   "metadata": {},
   "outputs": [
    {
     "data": {
      "text/plain": [
       "sentiment\n",
       "Negative    58747\n",
       "Positive    10881\n",
       "Neutral      8667\n",
       "Name: count, dtype: int64"
      ]
     },
     "execution_count": 7,
     "metadata": {},
     "output_type": "execute_result"
    }
   ],
   "source": [
    "df_filtered['sentiment'].value_counts()"
   ]
  },
  {
   "cell_type": "markdown",
   "id": "ef99d859",
   "metadata": {},
   "source": [
    "## Data Split"
   ]
  },
  {
   "cell_type": "code",
   "execution_count": 8,
   "id": "b8d44098",
   "metadata": {},
   "outputs": [],
   "source": [
    "from sklearn.model_selection import train_test_split\n",
    "\n",
    "X = df_filtered['stemming']\n",
    "y = df_filtered['sentiment']\n",
    "\n",
    "X_train, X_test, y_train, y_test = train_test_split(\n",
    "    X, y,\n",
    "    test_size=0.2,\n",
    "    stratify=y,\n",
    "    random_state=42\n",
    ")\n",
    "\n",
    "train_df = pd.DataFrame({'text': X_train, 'label': y_train})\n",
    "test_df = pd.DataFrame({'text': X_test, 'label': y_test})\n"
   ]
  },
  {
   "cell_type": "markdown",
   "id": "2e379672",
   "metadata": {},
   "source": [
    "## Resampling"
   ]
  },
  {
   "cell_type": "code",
   "execution_count": 9,
   "id": "025d6c4f",
   "metadata": {},
   "outputs": [
    {
     "data": {
      "text/plain": [
       "label\n",
       "Negative    46998\n",
       "Positive     8705\n",
       "Neutral      6933\n",
       "Name: count, dtype: int64"
      ]
     },
     "execution_count": 9,
     "metadata": {},
     "output_type": "execute_result"
    }
   ],
   "source": [
    "train_df['label'].value_counts()"
   ]
  },
  {
   "cell_type": "code",
   "execution_count": 10,
   "id": "9d843870",
   "metadata": {},
   "outputs": [],
   "source": [
    "from sklearn.utils import resample\n",
    "\n",
    "# Pisahkan tiap kelas\n",
    "# df_negative = train_df[train_df['label'] == 'Negative'].sample(n=6933, random_state=42)\n",
    "# df_positive = train_df[train_df['label'] == 'Positive'].sample(n=6933, random_state=42)\n",
    "# df_neutral = train_df[train_df['label'] == 'Neutral']\n",
    "\n",
    "df_negative = train_df[train_df['label'] == 'Negative']\n",
    "\n",
    "df_positive = resample(\n",
    "    train_df[train_df['label'] == 'Positive'],\n",
    "    replace=True,\n",
    "    n_samples=46998,  \n",
    "    random_state=42\n",
    ")\n",
    "\n",
    "df_neutral = resample(\n",
    "    train_df[train_df['label'] == 'Neutral'],\n",
    "    replace=True,\n",
    "    n_samples=46998,\n",
    "    random_state=42\n",
    ")\n",
    "\n",
    "# Gabungkan dan acak\n",
    "train_balanced = pd.concat([df_negative, df_positive, df_neutral]).sample(frac=1, random_state=42).reset_index(drop=True)\n"
   ]
  },
  {
   "cell_type": "code",
   "execution_count": 11,
   "id": "633650c0",
   "metadata": {},
   "outputs": [
    {
     "data": {
      "text/plain": [
       "label\n",
       "Neutral     46998\n",
       "Negative    46998\n",
       "Positive    46998\n",
       "Name: count, dtype: int64"
      ]
     },
     "execution_count": 11,
     "metadata": {},
     "output_type": "execute_result"
    }
   ],
   "source": [
    "train_balanced['label'].value_counts()"
   ]
  },
  {
   "cell_type": "markdown",
   "id": "0a81ead4",
   "metadata": {},
   "source": [
    "## TF-IDF Vectorization & Modelling"
   ]
  },
  {
   "cell_type": "code",
   "execution_count": null,
   "id": "0508fed7",
   "metadata": {},
   "outputs": [
    {
     "name": "stdout",
     "output_type": "stream",
     "text": [
      "\n",
      "📌 Evaluating max_features=70000 ...\n",
      "Accuracy       : 0.9270\n",
      "F1-Macro       : 0.8532\n",
      "F1-Weighted    : 0.9262\n",
      "\n",
      "Classification Report:\n",
      "              precision    recall  f1-score\n",
      "Negative       0.964361  0.967316  0.965837\n",
      "Neutral        0.730365  0.681084  0.704864\n",
      "Positive       0.872840  0.905331  0.888789\n",
      "accuracy       0.927007  0.927007  0.927007\n",
      "macro avg      0.855855  0.851244  0.853163\n",
      "weighted avg   0.925732  0.927007  0.926231\n"
     ]
    },
    {
     "data": {
      "image/png": "[encoded data removed]",
      "text/plain": [
       "<Figure size 500x400 with 2 Axes>"
      ]
     },
     "metadata": {},
     "output_type": "display_data"
    },
    {
     "name": "stdout",
     "output_type": "stream",
     "text": [
      "\n",
      "📌 Evaluating max_features=80000 ...\n"
     ]
    }
   ],
   "source": [
    "from sklearn.feature_extraction.text import TfidfVectorizer\n",
    "from sklearn.svm import SVC\n",
    "from sklearn.metrics import (\n",
    "    classification_report,\n",
    "    accuracy_score,\n",
    "    confusion_matrix,\n",
    ")\n",
    "import pandas as pd\n",
    "import seaborn as sns\n",
    "import matplotlib.pyplot as plt\n",
    "\n",
    "max_features_list = [70000, 80000]\n",
    "results = []\n",
    "\n",
    "for mf in max_features_list:\n",
    "    print(f\"\\n📌 Evaluating max_features={mf} ...\")\n",
    "    \n",
    "    # TF-IDF vectorizer\n",
    "    vectorizer = TfidfVectorizer(max_features=mf, ngram_range=(1, 2))\n",
    "    X_train_vec = vectorizer.fit_transform(train_balanced['text'])\n",
    "    X_test_vec = vectorizer.transform(test_df['text'])\n",
    "\n",
    "    # SVM model\n",
    "    model = SVC(kernel='linear', random_state=42)\n",
    "    model.fit(X_train_vec, train_balanced['label'])\n",
    "\n",
    "    # Predict\n",
    "    y_pred = model.predict(X_test_vec)\n",
    "    y_true = test_df['label']\n",
    "\n",
    "    # Evaluation Metrics\n",
    "    acc = accuracy_score(y_true, y_pred)\n",
    "    report_dict = classification_report(y_true, y_pred, output_dict=True, digits=4)\n",
    "    cm = confusion_matrix(y_true, y_pred, labels=[\"Negative\", \"Neutral\", \"Positive\"])\n",
    "\n",
    "    # Save results\n",
    "    results.append({\n",
    "        'max_features': mf,\n",
    "        'accuracy': acc,\n",
    "        'f1_macro': report_dict['macro avg']['f1-score'],\n",
    "        'report': report_dict,\n",
    "        'confusion_matrix': cm\n",
    "    })\n",
    "\n",
    "    # Print Report\n",
    "    print(f\"Accuracy       : {acc:.4f}\")\n",
    "    print(f\"F1-Macro       : {report_dict['macro avg']['f1-score']:.4f}\")\n",
    "    print(f\"F1-Weighted    : {report_dict['weighted avg']['f1-score']:.4f}\")\n",
    "    print(\"\\nClassification Report:\")\n",
    "    print(pd.DataFrame(report_dict).transpose()[['precision', 'recall', 'f1-score']])\n",
    "\n",
    "    # Confusion Matrix (visual)\n",
    "    plt.figure(figsize=(5, 4))\n",
    "    sns.heatmap(cm, annot=True, fmt='d', cmap='Blues',\n",
    "                xticklabels=[\"Negative\", \"Neutral\", \"Positive\"],\n",
    "                yticklabels=[\"Negative\", \"Neutral\", \"Positive\"])\n",
    "    plt.title(f'Confusion Matrix (max_features={mf})')\n",
    "    plt.xlabel('Predicted')\n",
    "    plt.ylabel('Actual')\n",
    "    plt.show()\n"
   ]
  }
 ],
 "metadata": {
  "kernelspec": {
   "display_name": ".venv",
   "language": "python",
   "name": "python3"
  },
  "language_info": {
   "codemirror_mode": {
    "name": "ipython",
    "version": 3
   },
   "file_extension": ".py",
   "mimetype": "text/x-python",
   "name": "python",
   "nbconvert_exporter": "python",
   "pygments_lexer": "ipython3",
   "version": "3.12.3"
  }
 },
 "nbformat": 4,
 "nbformat_minor": 5
}
