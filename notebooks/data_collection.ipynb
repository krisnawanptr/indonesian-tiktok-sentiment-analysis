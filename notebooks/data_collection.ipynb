{
 "cells": [
  {
   "cell_type": "markdown",
   "id": "c150a195",
   "metadata": {},
   "source": [
    "# Data Collection"
   ]
  },
  {
   "cell_type": "code",
   "execution_count": 13,
   "id": "c43f67bb",
   "metadata": {},
   "outputs": [],
   "source": [
    "from google_play_scraper import Sort, reviews\n",
    "\n",
    "result, continuation_token = reviews(\n",
    "    'com.ss.android.ugc.trill',\n",
    "    lang = 'id',\n",
    "    country = 'id',\n",
    "    sort = Sort.MOST_RELEVANT,\n",
    "    count= 100000,\n",
    "    filter_score_with=None\n",
    ")"
   ]
  },
  {
   "cell_type": "code",
   "execution_count": 14,
   "id": "bcc7b507",
   "metadata": {},
   "outputs": [
    {
     "name": "stdout",
     "output_type": "stream",
     "text": [
      "<class 'pandas.core.frame.DataFrame'>\n",
      "RangeIndex: 100000 entries, 0 to 99999\n",
      "Data columns (total 11 columns):\n",
      " #   Column                Non-Null Count   Dtype         \n",
      "---  ------                --------------   -----         \n",
      " 0   reviewId              100000 non-null  object        \n",
      " 1   userName              100000 non-null  object        \n",
      " 2   userImage             100000 non-null  object        \n",
      " 3   content               100000 non-null  object        \n",
      " 4   score                 100000 non-null  int64         \n",
      " 5   thumbsUpCount         100000 non-null  int64         \n",
      " 6   reviewCreatedVersion  74651 non-null   object        \n",
      " 7   at                    100000 non-null  datetime64[ns]\n",
      " 8   replyContent          1182 non-null    object        \n",
      " 9   repliedAt             1182 non-null    datetime64[ns]\n",
      " 10  appVersion            74651 non-null   object        \n",
      "dtypes: datetime64[ns](2), int64(2), object(7)\n",
      "memory usage: 8.4+ MB\n"
     ]
    }
   ],
   "source": [
    "import numpy as np\n",
    "import pandas as pd\n",
    "\n",
    "\n",
    "dataset = pd.DataFrame(np.array(result), columns=['review'])\n",
    "dataset = dataset.join(pd.DataFrame(dataset.pop('review').tolist()))\n",
    "dataset.info()"
   ]
  },
  {
   "cell_type": "code",
   "execution_count": 15,
   "id": "c79a8e02",
   "metadata": {},
   "outputs": [
    {
     "data": {
      "text/html": [
       "<div>\n",
       "<style scoped>\n",
       "    .dataframe tbody tr th:only-of-type {\n",
       "        vertical-align: middle;\n",
       "    }\n",
       "\n",
       "    .dataframe tbody tr th {\n",
       "        vertical-align: top;\n",
       "    }\n",
       "\n",
       "    .dataframe thead th {\n",
       "        text-align: right;\n",
       "    }\n",
       "</style>\n",
       "<table border=\"1\" class=\"dataframe\">\n",
       "  <thead>\n",
       "    <tr style=\"text-align: right;\">\n",
       "      <th></th>\n",
       "      <th>at</th>\n",
       "      <th>reviewId</th>\n",
       "      <th>userName</th>\n",
       "      <th>score</th>\n",
       "      <th>content</th>\n",
       "    </tr>\n",
       "  </thead>\n",
       "  <tbody>\n",
       "    <tr>\n",
       "      <th>0</th>\n",
       "      <td>2025-07-01 18:59:48</td>\n",
       "      <td>d6b3a4be-536b-4c5b-a4a9-46056c133e10</td>\n",
       "      <td>Pengguna Google</td>\n",
       "      <td>1</td>\n",
       "      <td>saya sudah berkali² stuck saat mau masuk tikto...</td>\n",
       "    </tr>\n",
       "    <tr>\n",
       "      <th>1</th>\n",
       "      <td>2025-07-01 06:19:18</td>\n",
       "      <td>fe657a00-c516-475b-ac8f-69a8f9c7d6d8</td>\n",
       "      <td>Pengguna Google</td>\n",
       "      <td>3</td>\n",
       "      <td>apk ini jujur bagus sih... cuman gmn ya? aku s...</td>\n",
       "    </tr>\n",
       "    <tr>\n",
       "      <th>2</th>\n",
       "      <td>2025-06-30 08:16:34</td>\n",
       "      <td>5b1112d4-1947-4005-9cec-6ca3becf1e01</td>\n",
       "      <td>Pengguna Google</td>\n",
       "      <td>1</td>\n",
       "      <td>tolong dong d perbaiki,setiap Saya buka tiktok...</td>\n",
       "    </tr>\n",
       "    <tr>\n",
       "      <th>3</th>\n",
       "      <td>2025-07-01 07:21:18</td>\n",
       "      <td>10b4e614-70ba-4d26-af54-391beb7754ce</td>\n",
       "      <td>Pengguna Google</td>\n",
       "      <td>4</td>\n",
       "      <td>apk ini memang bgus cuma benerin dong sedikit ...</td>\n",
       "    </tr>\n",
       "    <tr>\n",
       "      <th>4</th>\n",
       "      <td>2025-07-01 20:12:54</td>\n",
       "      <td>384feee2-91b6-4a7d-bba1-d967f8d2ca1e</td>\n",
       "      <td>Pengguna Google</td>\n",
       "      <td>1</td>\n",
       "      <td>kalau aku ngeser ke atas pasti itu lagu jadi l...</td>\n",
       "    </tr>\n",
       "  </tbody>\n",
       "</table>\n",
       "</div>"
      ],
      "text/plain": [
       "                   at                              reviewId         userName  \\\n",
       "0 2025-07-01 18:59:48  d6b3a4be-536b-4c5b-a4a9-46056c133e10  Pengguna Google   \n",
       "1 2025-07-01 06:19:18  fe657a00-c516-475b-ac8f-69a8f9c7d6d8  Pengguna Google   \n",
       "2 2025-06-30 08:16:34  5b1112d4-1947-4005-9cec-6ca3becf1e01  Pengguna Google   \n",
       "3 2025-07-01 07:21:18  10b4e614-70ba-4d26-af54-391beb7754ce  Pengguna Google   \n",
       "4 2025-07-01 20:12:54  384feee2-91b6-4a7d-bba1-d967f8d2ca1e  Pengguna Google   \n",
       "\n",
       "   score                                            content  \n",
       "0      1  saya sudah berkali² stuck saat mau masuk tikto...  \n",
       "1      3  apk ini jujur bagus sih... cuman gmn ya? aku s...  \n",
       "2      1  tolong dong d perbaiki,setiap Saya buka tiktok...  \n",
       "3      4  apk ini memang bgus cuma benerin dong sedikit ...  \n",
       "4      1  kalau aku ngeser ke atas pasti itu lagu jadi l...  "
      ]
     },
     "execution_count": 15,
     "metadata": {},
     "output_type": "execute_result"
    }
   ],
   "source": [
    "df = dataset[['at', 'reviewId', 'userName', 'score', 'content']]\n",
    "df.head()"
   ]
  },
  {
   "cell_type": "code",
   "execution_count": 16,
   "id": "90c8a3d4",
   "metadata": {},
   "outputs": [],
   "source": [
    "df.to_csv('../data/raw/review_tiktok_dataset.csv', index=False)"
   ]
  }
 ],
 "metadata": {
  "kernelspec": {
   "display_name": ".venv",
   "language": "python",
   "name": "python3"
  },
  "language_info": {
   "codemirror_mode": {
    "name": "ipython",
    "version": 3
   },
   "file_extension": ".py",
   "mimetype": "text/x-python",
   "name": "python",
   "nbconvert_exporter": "python",
   "pygments_lexer": "ipython3",
   "version": "3.12.3"
  }
 },
 "nbformat": 4,
 "nbformat_minor": 5
}
