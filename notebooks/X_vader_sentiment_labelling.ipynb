{
 "cells": [
  {
   "cell_type": "markdown",
   "id": "73abc873",
   "metadata": {},
   "source": [
    "# Sentiment Labelling using VADER"
   ]
  },
  {
   "cell_type": "code",
   "execution_count": null,
   "id": "ae21b14c",
   "metadata": {},
   "outputs": [],
   "source": [
    "import torch\n",
    "\n",
    "print(\"Number of GPU: \", torch.cuda.device_count())\n",
    "print(\"GPU Name: \", torch.cuda.get_device_name())\n",
    "\n",
    "\n",
    "device = torch.device('cuda' if torch.cuda.is_available() else 'cpu')\n",
    "print('Using device:', device)"
   ]
  },
  {
   "cell_type": "code",
   "execution_count": null,
   "id": "2d667733",
   "metadata": {},
   "outputs": [],
   "source": [
    "import pandas as pd\n",
    "\n",
    "df = pd.read_csv('../data/preprocessed/review_tiktok_dataset_preprocessed.csv')\n",
    "df.head()"
   ]
  },
  {
   "cell_type": "code",
   "execution_count": null,
   "id": "48b1412b",
   "metadata": {},
   "outputs": [],
   "source": [
    "from googletrans import Translator\n",
    "from tqdm import tqdm\n",
    "\n",
    "translator = Translator()\n",
    "tqdm.pandas()\n",
    "\n",
    "def translate_comment(comment):\n",
    "    if isinstance(comment, str) and comment.strip():\n",
    "        try:\n",
    "            return translator.translate(comment, src='id', dest='en').text\n",
    "        except Exception as e:\n",
    "            print(f\"Translation failed: {e}\")\n",
    "    return comment  \n",
    "\n",
    "\n",
    "df['translated_content'] = df['content'].progress_apply(translate_comment)"
   ]
  },
  {
   "cell_type": "code",
   "execution_count": null,
   "id": "413e8a1e",
   "metadata": {},
   "outputs": [],
   "source": [
    "df.to_csv('../data/preprocessed/review_tiktok_dataset_translated.csv', index=False)"
   ]
  },
  {
   "cell_type": "code",
   "execution_count": null,
   "id": "41e70189",
   "metadata": {},
   "outputs": [],
   "source": [
    "from vaderSentiment.vaderSentiment import SentimentIntensityAnalyzer\n",
    "from tqdm import tqdm\n",
    "\n",
    "analyzer = SentimentIntensityAnalyzer()\n",
    "tqdm.pandas()\n",
    "\n",
    "def get_sentiment_score(comment):\n",
    "    if isinstance(comment, str) and comment.strip():\n",
    "        return analyzer.polarity_scores(comment)['compound']\n",
    "    return 0.0\n",
    "\n",
    "df['sentiment_score'] = df['translated_content'].progress_apply(get_sentiment_score)"
   ]
  },
  {
   "cell_type": "code",
   "execution_count": null,
   "id": "4df6c54a",
   "metadata": {},
   "outputs": [],
   "source": [
    "def sentiment_label(sentiment_score):\n",
    "    if sentiment_score >= 0.05:\n",
    "        return 'positive'\n",
    "    elif sentiment_score <= -0.05:\n",
    "        return 'negative'\n",
    "    else:\n",
    "        return 'neutral'\n",
    "    \n",
    "df['sentiment_label'] = df['sentiment_score'].apply(sentiment_label)"
   ]
  },
  {
   "cell_type": "code",
   "execution_count": null,
   "id": "e18f4512",
   "metadata": {},
   "outputs": [],
   "source": [
    "df.head()"
   ]
  },
  {
   "cell_type": "code",
   "execution_count": null,
   "id": "c698a3da",
   "metadata": {},
   "outputs": [],
   "source": [
    "df.to_csv('../data/preprocessed/review_tiktok_dataset_vader_sentiment.csv', index=False)"
   ]
  }
 ],
 "metadata": {
  "kernelspec": {
   "display_name": ".venv",
   "language": "python",
   "name": "python3"
  },
  "language_info": {
   "codemirror_mode": {
    "name": "ipython",
    "version": 3
   },
   "file_extension": ".py",
   "mimetype": "text/x-python",
   "name": "python",
   "nbconvert_exporter": "python",
   "pygments_lexer": "ipython3",
   "version": "3.12.3"
  }
 },
 "nbformat": 4,
 "nbformat_minor": 5
}
